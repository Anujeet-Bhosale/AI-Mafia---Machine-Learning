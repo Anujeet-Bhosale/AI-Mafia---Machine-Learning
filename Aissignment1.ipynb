{
 "cells": [
  {
   "cell_type": "code",
   "execution_count": 1,
   "metadata": {},
   "outputs": [],
   "source": [
    "import numpy as np"
   ]
  },
  {
   "cell_type": "code",
   "execution_count": 2,
   "metadata": {},
   "outputs": [
    {
     "name": "stdout",
     "output_type": "stream",
     "text": [
      "[[1 2 3]\n",
      " [4 5 6]\n",
      " [7 8 9]]\n"
     ]
    }
   ],
   "source": [
    "arr= np.array([[1,2,3],[4,5,6],[7,8,9]])\n",
    "print(arr)"
   ]
  },
  {
   "cell_type": "code",
   "execution_count": 3,
   "metadata": {},
   "outputs": [
    {
     "data": {
      "text/plain": [
       "numpy.ndarray"
      ]
     },
     "execution_count": 3,
     "metadata": {},
     "output_type": "execute_result"
    }
   ],
   "source": [
    "type(arr)"
   ]
  },
  {
   "cell_type": "code",
   "execution_count": 4,
   "metadata": {},
   "outputs": [
    {
     "data": {
      "text/plain": [
       "2"
      ]
     },
     "execution_count": 4,
     "metadata": {},
     "output_type": "execute_result"
    }
   ],
   "source": [
    "arr.ndim"
   ]
  },
  {
   "cell_type": "code",
   "execution_count": 5,
   "metadata": {},
   "outputs": [
    {
     "data": {
      "text/plain": [
       "(3, 3)"
      ]
     },
     "execution_count": 5,
     "metadata": {},
     "output_type": "execute_result"
    }
   ],
   "source": [
    "arr.shape"
   ]
  },
  {
   "cell_type": "code",
   "execution_count": 6,
   "metadata": {},
   "outputs": [
    {
     "data": {
      "text/plain": [
       "9"
      ]
     },
     "execution_count": 6,
     "metadata": {},
     "output_type": "execute_result"
    }
   ],
   "source": [
    "arr.size"
   ]
  },
  {
   "cell_type": "code",
   "execution_count": 7,
   "metadata": {},
   "outputs": [],
   "source": [
    "arr= np.array([[1,2,3],[4,5,6],[7,8,9]],dtype='float')"
   ]
  },
  {
   "cell_type": "code",
   "execution_count": 8,
   "metadata": {},
   "outputs": [
    {
     "name": "stdout",
     "output_type": "stream",
     "text": [
      "[[1. 2. 3.]\n",
      " [4. 5. 6.]\n",
      " [7. 8. 9.]]\n"
     ]
    }
   ],
   "source": [
    "print(arr)"
   ]
  },
  {
   "cell_type": "code",
   "execution_count": 13,
   "metadata": {},
   "outputs": [
    {
     "name": "stdout",
     "output_type": "stream",
     "text": [
      "[[0. 0. 0. 0.]\n",
      " [0. 0. 0. 0.]\n",
      " [0. 0. 0. 0.]]\n"
     ]
    }
   ],
   "source": [
    "c=np.zeros((3,4))\n",
    "print(c)"
   ]
  },
  {
   "cell_type": "code",
   "execution_count": 22,
   "metadata": {},
   "outputs": [
    {
     "name": "stdout",
     "output_type": "stream",
     "text": [
      "\n",
      "Asequential array with step of 5\n",
      " [ 0  5 10 15 20 25]\n",
      "\n",
      "An array with 10 division ib range 0 to 5 [0.         0.55555556 1.11111111 1.66666667 2.22222222 2.77777778\n",
      " 3.33333333 3.88888889 4.44444444 5.        ]\n"
     ]
    }
   ],
   "source": [
    "f=np.arange(0,30,5)\n",
    "print(\"\\nAsequential array with step of 5\\n\",f)\n",
    "g=np.linspace(0,5,10)\n",
    "print(\"\\nAn array with 10 division ib range 0 to 5\",g)"
   ]
  },
  {
   "cell_type": "code",
   "execution_count": 23,
   "metadata": {},
   "outputs": [
    {
     "name": "stdout",
     "output_type": "stream",
     "text": [
      "[1 2 3 4 5 6]\n"
     ]
    }
   ],
   "source": [
    "arr1= np.array([[1,2,3],[4,5,6]])\n",
    "print(arr1.flatten())"
   ]
  },
  {
   "cell_type": "code",
   "execution_count": 30,
   "metadata": {},
   "outputs": [
    {
     "name": "stdout",
     "output_type": "stream",
     "text": [
      "[[1 2 3 4]\n",
      " [4 3 2 1]\n",
      " [5 6 7 8]\n",
      " [9 8 7 6]]\n",
      "\n",
      " [[4 3]\n",
      " [5 6]\n",
      " [9 8]]\n",
      "\n",
      " [[4 2]\n",
      " [5 7]\n",
      " [9 7]]\n"
     ]
    }
   ],
   "source": [
    "arr=np.array([[1,2,3,4],[4,3,2,1],[5,6,7,8],[9,8,7,6]])\n",
    "print(arr)\n",
    "print(\"\\n\",arr[1:,:2])\n",
    "print(\"\\n\",arr[1:,::2])"
   ]
  },
  {
   "cell_type": "code",
   "execution_count": 34,
   "metadata": {},
   "outputs": [
    {
     "name": "stdout",
     "output_type": "stream",
     "text": [
      "Addition by 1 is: [3 4 5 6 7]\n",
      "Subtraction by 1 is: [1 2 3 4 5]\n",
      "Multiplication so each element is: [ 4  6  8 10 12]\n",
      "squaring of each element is: [ 4  9 16 25 36]\n",
      "transpose is: [[1 4 7]\n",
      " [2 5 8]\n",
      " [3 6 9]]\n"
     ]
    }
   ],
   "source": [
    "arr=np.array([2,3,4,5,6])\n",
    "print(\"Addition by 1 is:\",arr+1)\n",
    "print(\"Subtraction by 1 is:\",arr-1)\n",
    "print(\"Multiplication so each element is:\",arr*2)\n",
    "print(\"squaring of each element is:\",arr**2)\n",
    "a=np.array([[1,2,3],[4,5,6],[7,8,9]])\n",
    "print(\"transpose is:\",a.T)"
   ]
  },
  {
   "cell_type": "code",
   "execution_count": 47,
   "metadata": {},
   "outputs": [
    {
     "name": "stdout",
     "output_type": "stream",
     "text": [
      "[[ 1  2  3  4]\n",
      " [45 23  5 78]\n",
      " [98 78 55 21]\n",
      " [ 4  3  8  9]]\n",
      "\n",
      " 98\n",
      "\n",
      " [ 4 78 98  9]\n",
      "\n",
      " [98 78 55 78]\n",
      "\n",
      "Sum is: 437\n"
     ]
    }
   ],
   "source": [
    "arr= np.array([[1,2,3,4],[45,23,5,78],[98,78,55,21],[4,3,8,9]])\n",
    "print(arr)\n",
    "print(\"\\n\",arr.max())\n",
    "print(\"\\n\",arr.max(axis=1))\n",
    "print(\"\\n\",arr.max(axis=0))\n",
    "print(\"\\nSum is:\",arr.sum())"
   ]
  },
  {
   "cell_type": "code",
   "execution_count": 49,
   "metadata": {},
   "outputs": [
    {
     "name": "stdout",
     "output_type": "stream",
     "text": [
      "Elementwise multplication\n",
      " [[1 2]\n",
      " [4 5]]\n",
      "Matrix Multiplication\n",
      " [[3 3]\n",
      " [9 9]]\n"
     ]
    }
   ],
   "source": [
    "a=np.array([[1,2],[4,5]])\n",
    "b=np.array([[1,1],[1,1]])\n",
    "print(\"Elementwise multplication\\n\",a*b)\n",
    "print(\"Matrix Multiplication\\n\",a.dot(b))\n",
    "            "
   ]
  },
  {
   "cell_type": "code",
   "execution_count": 52,
   "metadata": {},
   "outputs": [
    {
     "name": "stdout",
     "output_type": "stream",
     "text": [
      "sorted array\n",
      " [1 1 2 2 3 3 5 6 8]\n"
     ]
    }
   ],
   "source": [
    "a=np.array([[1,2,3],[8,6,2],[3,1,5]])\n",
    "print(\"sorted array\\n\",np.sort(a, axis=None))"
   ]
  },
  {
   "cell_type": "code",
   "execution_count": 62,
   "metadata": {},
   "outputs": [
    {
     "name": "stdout",
     "output_type": "stream",
     "text": [
      "vertical stacking\n",
      " [[1 2]\n",
      " [3 4]\n",
      " [1 1]\n",
      " [1 1]]\n",
      "Horizontal stacking\n",
      " [[1 2 1 1]\n",
      " [3 4 1 1]]\n",
      "Coloumn Stacking\n",
      " [[1 2 5]\n",
      " [3 4 6]]\n",
      "concatenate\n",
      " [[1 2]\n",
      " [3 4]\n",
      " [1 1]\n",
      " [1 1]]\n"
     ]
    }
   ],
   "source": [
    "a=np.array([[1,2],\n",
    "          [3,4]])\n",
    "b=np.array([[1,1],\n",
    "            [1,1]])\n",
    "print(\"vertical stacking\\n\",np.vstack((a,b)))     \n",
    "print(\"Horizontal stacking\\n\",np.hstack((a,b)))\n",
    "c=[5,6]\n",
    "print(\"Coloumn Stacking\\n\",np.column_stack((a,c)))\n",
    "print(\"concatenate\\n\",np.concatenate((a,b)))"
   ]
  },
  {
   "cell_type": "code",
   "execution_count": 63,
   "metadata": {},
   "outputs": [
    {
     "name": "stdout",
     "output_type": "stream",
     "text": [
      "Horizontal split is:\n",
      " [array([[1, 2, 3],\n",
      "       [9, 8, 7]]), array([[4, 5, 6],\n",
      "       [6, 5, 4]])]\n",
      "Vertical split is:\n",
      " [array([[1, 2, 3, 4, 5, 6]]), array([[9, 8, 7, 6, 5, 4]])]\n",
      "Array splitis:\n",
      " [array([[1, 2, 3, 4, 5, 6]]), array([[9, 8, 7, 6, 5, 4]])]\n"
     ]
    }
   ],
   "source": [
    "a=np.array([[1,2,3,4,5,6],\n",
    "            [9,8,7,6,5,4]])\n",
    "print(\"Horizontal split is:\\n\",np.hsplit(a,2))\n",
    "print(\"Vertical split is:\\n\",np.vsplit(a,2))\n",
    "print(\"Array splitis:\\n\",np.array_split(a,2))"
   ]
  },
  {
   "cell_type": "code",
   "execution_count": null,
   "metadata": {},
   "outputs": [],
   "source": []
  }
 ],
 "metadata": {
  "kernelspec": {
   "display_name": "Python 3",
   "language": "python",
   "name": "python3"
  },
  "language_info": {
   "codemirror_mode": {
    "name": "ipython",
    "version": 3
   },
   "file_extension": ".py",
   "mimetype": "text/x-python",
   "name": "python",
   "nbconvert_exporter": "python",
   "pygments_lexer": "ipython3",
   "version": "3.8.3"
  }
 },
 "nbformat": 4,
 "nbformat_minor": 4
}
