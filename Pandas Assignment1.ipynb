{
 "cells": [
  {
   "cell_type": "markdown",
   "metadata": {},
   "source": [
    "# PANDA ASSIGNMENT"
   ]
  },
  {
   "cell_type": "code",
   "execution_count": 1,
   "metadata": {},
   "outputs": [],
   "source": [
    "import pandas as pd"
   ]
  },
  {
   "cell_type": "code",
   "execution_count": 8,
   "metadata": {},
   "outputs": [
    {
     "data": {
      "text/html": [
       "<div>\n",
       "<style scoped>\n",
       "    .dataframe tbody tr th:only-of-type {\n",
       "        vertical-align: middle;\n",
       "    }\n",
       "\n",
       "    .dataframe tbody tr th {\n",
       "        vertical-align: top;\n",
       "    }\n",
       "\n",
       "    .dataframe thead th {\n",
       "        text-align: right;\n",
       "    }\n",
       "</style>\n",
       "<table border=\"1\" class=\"dataframe\">\n",
       "  <thead>\n",
       "    <tr style=\"text-align: right;\">\n",
       "      <th></th>\n",
       "      <th>Movie_Title</th>\n",
       "      <th>YR_Released</th>\n",
       "      <th>Rating</th>\n",
       "      <th>Num_Reviews</th>\n",
       "      <th>Movie_ID</th>\n",
       "      <th>Record</th>\n",
       "      <th>Runtime</th>\n",
       "    </tr>\n",
       "  </thead>\n",
       "  <tbody>\n",
       "    <tr>\n",
       "      <th>0</th>\n",
       "      <td>Code Name: K.O.Z.</td>\n",
       "      <td>2015</td>\n",
       "      <td>1.4</td>\n",
       "      <td>24623</td>\n",
       "      <td>tt4458206</td>\n",
       "      <td>Bottom 250 Movies</td>\n",
       "      <td>114.0</td>\n",
       "    </tr>\n",
       "    <tr>\n",
       "      <th>1</th>\n",
       "      <td>Saving Christmas</td>\n",
       "      <td>2014</td>\n",
       "      <td>1.5</td>\n",
       "      <td>12765</td>\n",
       "      <td>tt4009460</td>\n",
       "      <td>Bottom 250 Movies</td>\n",
       "      <td>80.0</td>\n",
       "    </tr>\n",
       "    <tr>\n",
       "      <th>2</th>\n",
       "      <td>Superbabies: Baby Geniuses 2</td>\n",
       "      <td>2004</td>\n",
       "      <td>1.6</td>\n",
       "      <td>26505</td>\n",
       "      <td>tt0270846</td>\n",
       "      <td>Bottom 250 Movies</td>\n",
       "      <td>88.0</td>\n",
       "    </tr>\n",
       "    <tr>\n",
       "      <th>3</th>\n",
       "      <td>Daniel the Wizard</td>\n",
       "      <td>2004</td>\n",
       "      <td>1.6</td>\n",
       "      <td>13295</td>\n",
       "      <td>tt0421051</td>\n",
       "      <td>Bottom 250 Movies</td>\n",
       "      <td>81.0</td>\n",
       "    </tr>\n",
       "    <tr>\n",
       "      <th>4</th>\n",
       "      <td>Manos: The Hands of Fate</td>\n",
       "      <td>1966</td>\n",
       "      <td>1.7</td>\n",
       "      <td>31808</td>\n",
       "      <td>tt0060666</td>\n",
       "      <td>Bottom 250 Movies</td>\n",
       "      <td>70.0</td>\n",
       "    </tr>\n",
       "  </tbody>\n",
       "</table>\n",
       "</div>"
      ],
      "text/plain": [
       "                    Movie_Title  YR_Released  Rating  Num_Reviews   Movie_ID  \\\n",
       "0             Code Name: K.O.Z.         2015     1.4        24623  tt4458206   \n",
       "1              Saving Christmas         2014     1.5        12765  tt4009460   \n",
       "2  Superbabies: Baby Geniuses 2         2004     1.6        26505  tt0270846   \n",
       "3             Daniel the Wizard         2004     1.6        13295  tt0421051   \n",
       "4      Manos: The Hands of Fate         1966     1.7        31808  tt0060666   \n",
       "\n",
       "              Record  Runtime  \n",
       "0  Bottom 250 Movies    114.0  \n",
       "1  Bottom 250 Movies     80.0  \n",
       "2  Bottom 250 Movies     88.0  \n",
       "3  Bottom 250 Movies     81.0  \n",
       "4  Bottom 250 Movies     70.0  "
      ]
     },
     "execution_count": 8,
     "metadata": {},
     "output_type": "execute_result"
    }
   ],
   "source": [
    "imdb_df= pd.read_csv(r\"C:\\Users\\Anujeet\\Downloads\\imdb.csv\")\n",
    "imdb_df.head()\n"
   ]
  },
  {
   "cell_type": "code",
   "execution_count": 9,
   "metadata": {},
   "outputs": [
    {
     "data": {
      "text/plain": [
       "Index(['Movie_Title', 'YR_Released', 'Rating', 'Num_Reviews', 'Movie_ID',\n",
       "       'Record', 'Runtime'],\n",
       "      dtype='object')"
      ]
     },
     "execution_count": 9,
     "metadata": {},
     "output_type": "execute_result"
    }
   ],
   "source": [
    "imdb_df= pd.read_csv(r\"C:\\Users\\Anujeet\\Downloads\\imdb.csv\")\n",
    "imdb_df.columns"
   ]
  },
  {
   "cell_type": "code",
   "execution_count": 10,
   "metadata": {},
   "outputs": [
    {
     "data": {
      "text/plain": [
       "Movie_Title     object\n",
       "YR_Released      int64\n",
       "Rating         float64\n",
       "Num_Reviews      int64\n",
       "Movie_ID        object\n",
       "Record          object\n",
       "Runtime        float64\n",
       "dtype: object"
      ]
     },
     "execution_count": 10,
     "metadata": {},
     "output_type": "execute_result"
    }
   ],
   "source": [
    "imdb_df= pd.read_csv(r\"C:\\Users\\Anujeet\\Downloads\\imdb.csv\")\n",
    "imdb_df.dtypes"
   ]
  },
  {
   "cell_type": "code",
   "execution_count": 12,
   "metadata": {},
   "outputs": [
    {
     "data": {
      "text/plain": [
       "0               Code Name: K.O.Z.\n",
       "1                Saving Christmas\n",
       "2    Superbabies: Baby Geniuses 2\n",
       "3               Daniel the Wizard\n",
       "4        Manos: The Hands of Fate\n",
       "Name: Movie_Title, dtype: object"
      ]
     },
     "execution_count": 12,
     "metadata": {},
     "output_type": "execute_result"
    }
   ],
   "source": [
    "imdb_df= pd.read_csv(r\"C:\\Users\\Anujeet\\Downloads\\imdb.csv\")\n",
    "imdb_df['Movie_Title'].head()"
   ]
  },
  {
   "cell_type": "markdown",
   "metadata": {},
   "source": [
    "# Plotting a column\n"
   ]
  },
  {
   "cell_type": "code",
   "execution_count": 13,
   "metadata": {},
   "outputs": [
    {
     "data": {
      "text/plain": [
       "<matplotlib.axes._subplots.AxesSubplot at 0x142024a8>"
      ]
     },
     "execution_count": 13,
     "metadata": {},
     "output_type": "execute_result"
    },
    {
     "data": {
      "image/png": "[encoded data removed]",
      "text/plain": [
       "<Figure size 432x288 with 1 Axes>"
      ]
     },
     "metadata": {
      "needs_background": "light"
     },
     "output_type": "display_data"
    }
   ],
   "source": [
    "import pandas as pd\n",
    "bikes_df= pd.read_csv(r\"C:\\Users\\Anujeet\\Downloads\\bikes.csv\")\n",
    "bikes_df['Berri1'].plot()\n"
   ]
  },
  {
   "cell_type": "code",
   "execution_count": null,
   "metadata": {},
   "outputs": [],
   "source": []
  }
 ],
 "metadata": {
  "kernelspec": {
   "display_name": "Python 3",
   "language": "python",
   "name": "python3"
  },
  "language_info": {
   "codemirror_mode": {
    "name": "ipython",
    "version": 3
   },
   "file_extension": ".py",
   "mimetype": "text/x-python",
   "name": "python",
   "nbconvert_exporter": "python",
   "pygments_lexer": "ipython3",
   "version": "3.8.3"
  }
 },
 "nbformat": 4,
 "nbformat_minor": 4
}
